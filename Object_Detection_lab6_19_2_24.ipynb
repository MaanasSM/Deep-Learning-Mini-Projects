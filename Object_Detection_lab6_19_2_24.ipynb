{
  "nbformat": 4,
  "nbformat_minor": 0,
  "metadata": {
    "colab": {
      "provenance": [],
      "gpuType": "T4",
      "authorship_tag": "ABX9TyNXWWLeOkr3zJLkm3/SDzbU",
      "include_colab_link": true
    },
    "kernelspec": {
      "name": "python3",
      "display_name": "Python 3"
    },
    "language_info": {
      "name": "python"
    },
    "accelerator": "GPU"
  },
  "cells": [
    {
      "cell_type": "markdown",
      "metadata": {
        "id": "view-in-github",
        "colab_type": "text"
      },
      "source": [
        "<a href=\"https://colab.research.google.com/github/MaanasSM/Deep-Learning-Mini-Projects/blob/main/Object_Detection_lab6_19_2_24.ipynb\" target=\"_parent\"><img src=\"https://colab.research.google.com/assets/colab-badge.svg\" alt=\"Open In Colab\"/></a>"
      ]
    },
    {
      "cell_type": "code",
      "execution_count": null,
      "metadata": {
        "colab": {
          "base_uri": "https://localhost:8080/"
        },
        "id": "5gBbUtppxfhi",
        "outputId": "5abe5ff2-95ee-4a3b-ce57-a9173da58eb2"
      },
      "outputs": [
        {
          "output_type": "stream",
          "name": "stdout",
          "text": [
            "\u001b[2K   \u001b[90m━━━━━━━━━━━━━━━━━━━━━━━━━━━━━━━━━━━━━━━━\u001b[0m \u001b[32m363.4/363.4 MB\u001b[0m \u001b[31m4.2 MB/s\u001b[0m eta \u001b[36m0:00:00\u001b[0m\n",
            "\u001b[2K   \u001b[90m━━━━━━━━━━━━━━━━━━━━━━━━━━━━━━━━━━━━━━━━\u001b[0m \u001b[32m13.8/13.8 MB\u001b[0m \u001b[31m66.6 MB/s\u001b[0m eta \u001b[36m0:00:00\u001b[0m\n",
            "\u001b[2K   \u001b[90m━━━━━━━━━━━━━━━━━━━━━━━━━━━━━━━━━━━━━━━━\u001b[0m \u001b[32m24.6/24.6 MB\u001b[0m \u001b[31m42.5 MB/s\u001b[0m eta \u001b[36m0:00:00\u001b[0m\n",
            "\u001b[2K   \u001b[90m━━━━━━━━━━━━━━━━━━━━━━━━━━━━━━━━━━━━━━━━\u001b[0m \u001b[32m883.7/883.7 kB\u001b[0m \u001b[31m28.4 MB/s\u001b[0m eta \u001b[36m0:00:00\u001b[0m\n",
            "\u001b[2K   \u001b[90m━━━━━━━━━━━━━━━━━━━━━━━━━━━━━━━━━━━━━━━━\u001b[0m \u001b[32m664.8/664.8 MB\u001b[0m \u001b[31m2.9 MB/s\u001b[0m eta \u001b[36m0:00:00\u001b[0m\n",
            "\u001b[2K   \u001b[90m━━━━━━━━━━━━━━━━━━━━━━━━━━━━━━━━━━━━━━━━\u001b[0m \u001b[32m211.5/211.5 MB\u001b[0m \u001b[31m5.7 MB/s\u001b[0m eta \u001b[36m0:00:00\u001b[0m\n",
            "\u001b[2K   \u001b[90m━━━━━━━━━━━━━━━━━━━━━━━━━━━━━━━━━━━━━━━━\u001b[0m \u001b[32m56.3/56.3 MB\u001b[0m \u001b[31m12.2 MB/s\u001b[0m eta \u001b[36m0:00:00\u001b[0m\n",
            "\u001b[2K   \u001b[90m━━━━━━━━━━━━━━━━━━━━━━━━━━━━━━━━━━━━━━━━\u001b[0m \u001b[32m127.9/127.9 MB\u001b[0m \u001b[31m7.5 MB/s\u001b[0m eta \u001b[36m0:00:00\u001b[0m\n",
            "\u001b[2K   \u001b[90m━━━━━━━━━━━━━━━━━━━━━━━━━━━━━━━━━━━━━━━━\u001b[0m \u001b[32m207.5/207.5 MB\u001b[0m \u001b[31m5.9 MB/s\u001b[0m eta \u001b[36m0:00:00\u001b[0m\n",
            "\u001b[2K   \u001b[90m━━━━━━━━━━━━━━━━━━━━━━━━━━━━━━━━━━━━━━━━\u001b[0m \u001b[32m21.1/21.1 MB\u001b[0m \u001b[31m84.4 MB/s\u001b[0m eta \u001b[36m0:00:00\u001b[0m\n",
            "\u001b[?25h"
          ]
        }
      ],
      "source": [
        "# Install necessary libraries\n",
        "!pip install kaggle -q\n",
        "!pip install torch torchvision -q\n"
      ]
    },
    {
      "cell_type": "code",
      "source": [
        "import os\n",
        "import torch\n",
        "import torchvision\n",
        "import torchvision.transforms as transforms\n",
        "import torchvision.models as models\n",
        "import torch.nn as nn\n",
        "import torch.optim as optim\n",
        "from torch.utils.data import DataLoader, Dataset\n",
        "from PIL import Image\n",
        "import zipfile\n",
        "import matplotlib.pyplot as plt\n",
        "from google.colab import files"
      ],
      "metadata": {
        "id": "6Qm7h_Q62hu_"
      },
      "execution_count": null,
      "outputs": []
    },
    {
      "cell_type": "code",
      "source": [
        "# ======== STEP 1: Authenticate with Kaggle =========\n",
        "print(\"No need to upload kaggle.json. We will set API credentials directly in Colab.\")\n",
        "\n",
        "# Set Kaggle API credentials (Replace with your credentials)\n",
        "os.environ[\"KAGGLE_USERNAME\"] = \"bluelemons\"  # Replace with your Kaggle username\n",
        "os.environ[\"KAGGLE_KEY\"] = \"9ba83544e89a37efa719b1785b348ba2\"  # Replace with your Kaggle API key\n",
        "\n",
        "# Download the dataset (Ships in Satellite Imagery)\n",
        "KAGGLE_DATASET = \"rhammell/ships-in-satellite-imagery\"\n",
        "!mkdir -p /content/kaggle_dataset\n",
        "!kaggle datasets download -d {KAGGLE_DATASET} --unzip -p /content/kaggle_dataset\n",
        "\n",
        "# Verify dataset files\n",
        "dataset_path = \"/content/kaggle_dataset\"\n",
        "print(\"Files in dataset:\", os.listdir(dataset_path))\n"
      ],
      "metadata": {
        "colab": {
          "base_uri": "https://localhost:8080/"
        },
        "id": "1fdvclkE2nCf",
        "outputId": "2b762d35-9dc1-4fc2-8eb0-a46788ce6add"
      },
      "execution_count": null,
      "outputs": [
        {
          "output_type": "stream",
          "name": "stdout",
          "text": [
            "No need to upload kaggle.json. We will set API credentials directly in Colab.\n",
            "Dataset URL: https://www.kaggle.com/datasets/rhammell/ships-in-satellite-imagery\n",
            "License(s): CC-BY-SA-4.0\n",
            "Downloading ships-in-satellite-imagery.zip to /content/kaggle_dataset\n",
            " 99% 183M/185M [00:09<00:00, 24.5MB/s]\n",
            "100% 185M/185M [00:09<00:00, 20.6MB/s]\n",
            "Files in dataset: ['scenes', 'shipsnet.json', 'shipsnet']\n"
          ]
        }
      ]
    },
    {
      "cell_type": "code",
      "source": [
        "# ======== STEP 2: Preprocess Dataset =========\n",
        "transform = transforms.Compose([\n",
        "    transforms.Resize((299, 299)),  # Resize to InceptionV3 input size\n",
        "    transforms.ToTensor(),\n",
        "    transforms.Normalize(mean=[0.485, 0.456, 0.406], std=[0.229, 0.224, 0.225])\n",
        "])"
      ],
      "metadata": {
        "id": "0wRL06aK5shY"
      },
      "execution_count": null,
      "outputs": []
    },
    {
      "cell_type": "code",
      "source": [
        "import os\n",
        "print(\"Files in dataset folder:\", os.listdir(dataset_path))\n"
      ],
      "metadata": {
        "colab": {
          "base_uri": "https://localhost:8080/"
        },
        "id": "0ibwk0GW7NB9",
        "outputId": "a536331b-646d-4063-e4ea-90468a8a3f4d"
      },
      "execution_count": null,
      "outputs": [
        {
          "output_type": "stream",
          "name": "stdout",
          "text": [
            "Files in dataset folder: ['scenes', 'shipsnet.json', 'shipsnet']\n"
          ]
        }
      ]
    },
    {
      "cell_type": "code",
      "source": [
        "# # Custom dataset loader (Assuming images are in 'shipsnet.json' format, change according to dataset structure)\n",
        "# class CustomDataset(Dataset):\n",
        "#     def __init__(self, root_dir, transform=None):\n",
        "#         self.root_dir = root_dir\n",
        "#         self.transform = transform\n",
        "#         self.image_files = [f for f in os.listdir(root_dir) if f.endswith(('.jpg', '.png', '.jpeg'))]\n",
        "\n",
        "#     def __len__(self):\n",
        "#         return len(self.image_files)\n",
        "\n",
        "#     def __getitem__(self, idx):\n",
        "#         img_name = os.path.join(self.root_dir, self.image_files[idx])\n",
        "#         image = Image.open(img_name).convert(\"RGB\")\n",
        "\n",
        "#         if self.transform:\n",
        "#             image = self.transform(image)\n",
        "\n",
        "#         # Modify based on your dataset's label extraction logic\n",
        "#         label = int(self.image_files[idx].split('_')[0])  # Example: get label from filename\n",
        "\n",
        "#         return image, label\n",
        "\n",
        "# # Load the dataset\n",
        "# train_dataset = CustomDataset(root_dir=dataset_path, transform=transform)\n",
        "# train_loader = DataLoader(train_dataset, batch_size=16, shuffle=True)\n",
        "\n",
        "\n",
        "import json\n",
        "import numpy as np\n",
        "import torch\n",
        "from torch.utils.data import Dataset\n",
        "from PIL import Image\n",
        "\n",
        "class ShipsDataset(Dataset):\n",
        "    def __init__(self, json_path, transform=None):\n",
        "        with open(json_path, \"r\") as f:\n",
        "            data = json.load(f)  # Load JSON\n",
        "        self.images = np.array(data[\"data\"], dtype=np.uint8)  # Image pixel data\n",
        "        self.labels = np.array(data[\"labels\"], dtype=np.int64)  # Labels (0 or 1)\n",
        "        self.transform = transform\n",
        "\n",
        "    def __len__(self):\n",
        "        return len(self.labels)\n",
        "\n",
        "    def __getitem__(self, idx):\n",
        "        image = self.images[idx].reshape(3, 80, 80).transpose(1, 2, 0)  # Reshape to (80,80,3)\n",
        "        image = Image.fromarray(image)  # Convert NumPy array to PIL image\n",
        "\n",
        "        if self.transform:\n",
        "            image = self.transform(image)\n",
        "\n",
        "        label = self.labels[idx]\n",
        "        return image, label\n",
        "\n",
        "# Correct dataset path\n",
        "json_file_path = os.path.join(dataset_path, \"shipsnet.json\")\n",
        "\n",
        "# Load dataset correctly\n",
        "train_dataset = ShipsDataset(json_file_path, transform=transform)\n",
        "train_loader = DataLoader(train_dataset, batch_size=16, shuffle=True)\n",
        "\n",
        "# Print dataset size\n",
        "print(\"Dataset size:\", len(train_dataset))\n"
      ],
      "metadata": {
        "colab": {
          "base_uri": "https://localhost:8080/"
        },
        "id": "N9eGRWCX50qq",
        "outputId": "cc850f23-94b9-49ee-ec9c-86167922803c"
      },
      "execution_count": null,
      "outputs": [
        {
          "output_type": "stream",
          "name": "stdout",
          "text": [
            "Dataset size: 4000\n"
          ]
        }
      ]
    },
    {
      "cell_type": "code",
      "source": [
        "# ======== STEP 3: Load Pretrained InceptionV3 Model =========\n",
        "device = torch.device(\"cuda\" if torch.cuda.is_available() else \"cpu\")\n",
        "print(f\"Using device: {device}\")\n",
        "\n",
        "model = models.inception_v3(pretrained=True)\n",
        "num_features = model.fc.in_features\n",
        "model.fc = nn.Linear(num_features, 2)  # Change this based on the number of classes in your dataset (e.g., 2 classes)\n",
        "model = model.to(device)"
      ],
      "metadata": {
        "colab": {
          "base_uri": "https://localhost:8080/"
        },
        "id": "55tuKMGt6MTs",
        "outputId": "15c3d36e-1bae-4784-d564-6e3554919cab"
      },
      "execution_count": null,
      "outputs": [
        {
          "output_type": "stream",
          "name": "stdout",
          "text": [
            "Using device: cuda\n"
          ]
        },
        {
          "output_type": "stream",
          "name": "stderr",
          "text": [
            "/usr/local/lib/python3.11/dist-packages/torchvision/models/_utils.py:208: UserWarning: The parameter 'pretrained' is deprecated since 0.13 and may be removed in the future, please use 'weights' instead.\n",
            "  warnings.warn(\n",
            "/usr/local/lib/python3.11/dist-packages/torchvision/models/_utils.py:223: UserWarning: Arguments other than a weight enum or `None` for 'weights' are deprecated since 0.13 and may be removed in the future. The current behavior is equivalent to passing `weights=Inception_V3_Weights.IMAGENET1K_V1`. You can also use `weights=Inception_V3_Weights.DEFAULT` to get the most up-to-date weights.\n",
            "  warnings.warn(msg)\n",
            "Downloading: \"https://download.pytorch.org/models/inception_v3_google-0cc3c7bd.pth\" to /root/.cache/torch/hub/checkpoints/inception_v3_google-0cc3c7bd.pth\n",
            "100%|██████████| 104M/104M [00:01<00:00, 71.5MB/s]\n"
          ]
        }
      ]
    },
    {
      "cell_type": "code",
      "source": [
        "# ======== STEP 4: Define Loss & Optimizer =========\n",
        "criterion = nn.CrossEntropyLoss()\n",
        "optimizer = optim.Adam(model.parameters(), lr=0.001)\n"
      ],
      "metadata": {
        "id": "aQiCTzSl6ZwW"
      },
      "execution_count": null,
      "outputs": []
    },
    {
      "cell_type": "code",
      "source": [
        "# ======== STEP 5: Train the Model =========\n",
        "num_epochs = 5  # Adjust based on dataset size\n",
        "print(\"Training Started...\")\n",
        "\n",
        "for epoch in range(num_epochs):\n",
        "    model.train()\n",
        "    running_loss = 0.0\n",
        "\n",
        "    for images, labels in train_loader:\n",
        "        images, labels = images.to(device), labels.to(device)\n",
        "\n",
        "        optimizer.zero_grad()\n",
        "        outputs = model(images)\n",
        "        loss = criterion(outputs.logits, labels)\n",
        "        loss.backward()\n",
        "        optimizer.step()\n",
        "\n",
        "        running_loss += loss.item()\n",
        "\n",
        "    print(f\"Epoch [{epoch+1}/{num_epochs}], Loss: {running_loss/len(train_loader):.4f}\")\n",
        "\n",
        "print(\"Training Complete!\")"
      ],
      "metadata": {
        "colab": {
          "base_uri": "https://localhost:8080/"
        },
        "id": "O8pTrudw6boO",
        "outputId": "88af1033-d47f-41fe-9d23-47b8aa537a1d"
      },
      "execution_count": null,
      "outputs": [
        {
          "output_type": "stream",
          "name": "stdout",
          "text": [
            "Training Started...\n",
            "Epoch [1/5], Loss: 0.2393\n",
            "Epoch [2/5], Loss: 0.1420\n",
            "Epoch [3/5], Loss: 0.0909\n",
            "Epoch [4/5], Loss: 0.0785\n",
            "Epoch [5/5], Loss: 0.0589\n",
            "Training Complete!\n"
          ]
        }
      ]
    },
    {
      "cell_type": "code",
      "source": [
        "# ======== STEP 6: Save the Fine-Tuned Model =========\n",
        "torch.save(model.state_dict(), \"fine_tuned_inceptionv3.pth\")\n",
        "print(\"Model saved as fine_tuned_inceptionv3.pth\")"
      ],
      "metadata": {
        "colab": {
          "base_uri": "https://localhost:8080/"
        },
        "id": "NRxdFqHs6eNf",
        "outputId": "5048c325-b7f4-459d-c91b-e8f45aca3300"
      },
      "execution_count": null,
      "outputs": [
        {
          "output_type": "stream",
          "name": "stdout",
          "text": [
            "Model saved as fine_tuned_inceptionv3.pth\n"
          ]
        }
      ]
    },
    {
      "cell_type": "code",
      "source": [
        "import os\n",
        "import torch\n",
        "import random\n",
        "import numpy as np\n",
        "import torchvision.transforms as transforms\n",
        "import matplotlib.pyplot as plt\n",
        "from PIL import Image\n",
        "import json"
      ],
      "metadata": {
        "id": "fOcKBlyz9Pmb"
      },
      "execution_count": null,
      "outputs": []
    },
    {
      "cell_type": "code",
      "source": [
        "import os\n",
        "\n",
        "dataset_path = \"/content/kaggle_dataset\"\n",
        "print(\"Files in dataset:\", os.listdir(dataset_path))\n"
      ],
      "metadata": {
        "colab": {
          "base_uri": "https://localhost:8080/"
        },
        "id": "mtfqypbH94h2",
        "outputId": "c0015955-2caf-4784-b9d4-f89b0930f039"
      },
      "execution_count": null,
      "outputs": [
        {
          "output_type": "stream",
          "name": "stdout",
          "text": [
            "Files in dataset: ['scenes', 'shipsnet.json', 'shipsnet']\n"
          ]
        }
      ]
    },
    {
      "cell_type": "code",
      "source": [
        "# ============ STEP 1: Load Dataset from JSON ============\n",
        "json_file_path = \"/content/kaggle_dataset/shipsnet.json\"\n",
        "\n",
        "# Load JSON file\n",
        "with open(json_file_path, \"r\") as f:\n",
        "    data = json.load(f)\n",
        "\n",
        "images = np.array(data[\"data\"], dtype=np.uint8)  # Image data (flattened)\n",
        "labels = np.array(data[\"labels\"], dtype=np.int64)  # Labels (0 = No Ship, 1 = Ship)\n",
        "\n",
        "# Print dataset stats\n",
        "print(f\"✅ Loaded {len(images)} images from shipsnet.json\")\n",
        "print(f\"✅ Image shape before reshape: {images.shape}\")"
      ],
      "metadata": {
        "colab": {
          "base_uri": "https://localhost:8080/"
        },
        "id": "7Eu9X90K9YI7",
        "outputId": "a35ad211-630f-43ff-b8b5-702270b06e2d"
      },
      "execution_count": null,
      "outputs": [
        {
          "output_type": "stream",
          "name": "stdout",
          "text": [
            "✅ Loaded 4000 images from shipsnet.json\n",
            "✅ Image shape before reshape: (4000, 19200)\n"
          ]
        }
      ]
    },
    {
      "cell_type": "code",
      "source": [
        "# ============ STEP 2: Select a Random Image ============\n",
        "sample_idx = random.randint(0, len(images) - 1)  # Pick a random index\n",
        "image_array = images[sample_idx].reshape(3, 80, 80).transpose(1, 2, 0)  # Reshape to (80x80x3)\n",
        "label = labels[sample_idx]  # True label\n",
        "\n",
        "# Convert to PIL image\n",
        "image = Image.fromarray(image_array)\n",
        "\n",
        "# Display image\n",
        "plt.imshow(image)\n",
        "plt.title(f\"Actual Label: {'Ship' if label == 1 else 'No Ship'}\")\n",
        "plt.axis(\"off\")\n",
        "plt.show()"
      ],
      "metadata": {
        "colab": {
          "base_uri": "https://localhost:8080/",
          "height": 428
        },
        "id": "it_D360C-Tdw",
        "outputId": "34953552-519b-4fa7-f5bf-c43be92260c8"
      },
      "execution_count": null,
      "outputs": [
        {
          "output_type": "display_data",
          "data": {
            "text/plain": [
              "<Figure size 640x480 with 1 Axes>"
            ],
            "image/png": "[encoded data removed]"
          },
          "metadata": {}
        }
      ]
    },
    {
      "cell_type": "code",
      "source": [
        "# ============ STEP 3: Preprocess Image for Model ============\n",
        "transform = transforms.Compose([\n",
        "    transforms.Resize((299, 299)),  # Resize to match InceptionV3 input size\n",
        "    transforms.ToTensor(),\n",
        "    transforms.Normalize(mean=[0.5, 0.5, 0.5], std=[0.5, 0.5, 0.5])  # Normalize\n",
        "])\n",
        "\n",
        "image_tensor = transform(image).unsqueeze(0).to(device)  # Add batch dimension & send to GPU\n"
      ],
      "metadata": {
        "id": "dyTprpz_-Y3R"
      },
      "execution_count": null,
      "outputs": []
    },
    {
      "cell_type": "code",
      "source": [
        "# ============ STEP 4: Run Model Inference ============\n",
        "model.eval()  # Set model to evaluation mode\n",
        "with torch.no_grad():\n",
        "    output = model(image_tensor)\n",
        "    prediction = torch.argmax(output, dim=1).item()  # Get predicted label\n"
      ],
      "metadata": {
        "id": "w2imwrDL-c-x"
      },
      "execution_count": null,
      "outputs": []
    },
    {
      "cell_type": "code",
      "source": [
        "# ============ STEP 5: Print Prediction ============\n",
        "print(f\"✅ Model Prediction: {'Ship' if prediction == 1 else 'No Ship'}\")"
      ],
      "metadata": {
        "colab": {
          "base_uri": "https://localhost:8080/"
        },
        "id": "k_-YXxpj-dyp",
        "outputId": "4b9dc935-4584-47e3-f6d8-ac6a7bdd6e9f"
      },
      "execution_count": null,
      "outputs": [
        {
          "output_type": "stream",
          "name": "stdout",
          "text": [
            "✅ Model Prediction: Ship\n"
          ]
        }
      ]
    },
    {
      "cell_type": "code",
      "source": [
        "!wget \"https://www.kaggle.com/datasets/rhammell/ships-in-satellite-imagery/data\" -O dataset.zip\n",
        "!unzip dataset.zip -d /content/dataset"
      ],
      "metadata": {
        "colab": {
          "base_uri": "https://localhost:8080/"
        },
        "id": "Ah9yuBxLCoIz",
        "outputId": "f053296c-cfb5-4034-f880-e7afcf736474"
      },
      "execution_count": null,
      "outputs": [
        {
          "output_type": "stream",
          "name": "stdout",
          "text": [
            "--2025-03-05 10:55:29--  https://www.kaggle.com/datasets/rhammell/ships-in-satellite-imagery/data\n",
            "Resolving www.kaggle.com (www.kaggle.com)... 35.244.233.98\n",
            "Connecting to www.kaggle.com (www.kaggle.com)|35.244.233.98|:443... connected.\n",
            "HTTP request sent, awaiting response... 200 OK\n",
            "Length: unspecified [text/html]\n",
            "Saving to: ‘dataset.zip’\n",
            "\n",
            "dataset.zip             [ <=>                ]  13.32K  --.-KB/s    in 0.05s   \n",
            "\n",
            "2025-03-05 10:55:30 (250 KB/s) - ‘dataset.zip’ saved [13642]\n",
            "\n",
            "Archive:  dataset.zip\n",
            "  End-of-central-directory signature not found.  Either this file is not\n",
            "  a zipfile, or it constitutes one disk of a multi-part archive.  In the\n",
            "  latter case the central directory and zipfile comment will be found on\n",
            "  the last disk(s) of this archive.\n",
            "unzip:  cannot find zipfile directory in one of dataset.zip or\n",
            "        dataset.zip.zip, and cannot find dataset.zip.ZIP, period.\n"
          ]
        }
      ]
    },
    {
      "cell_type": "code",
      "source": [
        "!kaggle datasets download -d rhammell/ships-in-satellite-imagery --unzip -p /content/dataset"
      ],
      "metadata": {
        "colab": {
          "base_uri": "https://localhost:8080/"
        },
        "id": "HvsG9VqxDJwO",
        "outputId": "4f159d0f-34df-4b24-8022-0c82417da7a7"
      },
      "execution_count": null,
      "outputs": [
        {
          "output_type": "stream",
          "name": "stdout",
          "text": [
            "Dataset URL: https://www.kaggle.com/datasets/rhammell/ships-in-satellite-imagery\n",
            "License(s): CC-BY-SA-4.0\n",
            "Downloading ships-in-satellite-imagery.zip to /content/dataset\n",
            " 99% 184M/185M [00:09<00:00, 23.3MB/s]\n",
            "100% 185M/185M [00:09<00:00, 20.8MB/s]\n",
            "Traceback (most recent call last):\n",
            "  File \"/usr/local/lib/python3.11/dist-packages/kaggle/cli.py\", line 63, in main\n",
            "    out = args.func(**command_args)\n",
            "          ^^^^^^^^^^^^^^^^^^^^^^^^^\n",
            "  File \"/usr/local/lib/python3.11/dist-packages/kaggle/api/kaggle_api_extended.py\", line 1586, in dataset_download_cli\n",
            "    self.dataset_download_files(dataset,\n",
            "  File \"/usr/local/lib/python3.11/dist-packages/kaggle/api/kaggle_api_extended.py\", line 1520, in dataset_download_files\n",
            "    z.extractall(effective_path)\n",
            "  File \"/usr/lib/python3.11/zipfile.py\", line 1702, in extractall\n",
            "    self._extract_member(zipinfo, path, pwd)\n",
            "  File \"/usr/lib/python3.11/zipfile.py\", line 1757, in _extract_member\n",
            "    shutil.copyfileobj(source, target)\n",
            "  File \"/usr/lib/python3.11/shutil.py\", line 197, in copyfileobj\n",
            "^C\n"
          ]
        }
      ]
    }
  ]
}